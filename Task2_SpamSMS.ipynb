{
  "nbformat": 4,
  "nbformat_minor": 0,
  "metadata": {
    "colab": {
      "provenance": [],
      "authorship_tag": "ABX9TyP9sUPrRfxg9nR5cwBjqiE5",
      "include_colab_link": true
    },
    "kernelspec": {
      "name": "python3",
      "display_name": "Python 3"
    },
    "language_info": {
      "name": "python"
    }
  },
  "cells": [
    {
      "cell_type": "markdown",
      "metadata": {
        "id": "view-in-github",
        "colab_type": "text"
      },
      "source": [
        "<a href=\"https://colab.research.google.com/github/puvishasundar/CODSOFT/blob/main/Task2_SpamSMS.ipynb\" target=\"_parent\"><img src=\"https://colab.research.google.com/assets/colab-badge.svg\" alt=\"Open In Colab\"/></a>"
      ]
    },
    {
      "cell_type": "code",
      "execution_count": 6,
      "metadata": {
        "colab": {
          "base_uri": "https://localhost:8080/"
        },
        "id": "vIpluTV5La8a",
        "outputId": "f567f2c5-9712-4ac7-f2fd-607e75b0bf1b"
      },
      "outputs": [
        {
          "output_type": "stream",
          "name": "stdout",
          "text": [
            "Dataset shape: (5572, 2)\n",
            "  label                                            message\n",
            "0   ham  Go until jurong point, crazy.. Available only ...\n",
            "1   ham                      Ok lar... Joking wif u oni...\n",
            "2  spam  Free entry in 2 a wkly comp to win FA Cup fina...\n",
            "3   ham  U dun say so early hor... U c already then say...\n",
            "4   ham  Nah I don't think he goes to usf, he lives aro...\n",
            "\n",
            "Classification Report:\n",
            "               precision    recall  f1-score   support\n",
            "\n",
            "           0       0.97      1.00      0.99       966\n",
            "           1       1.00      0.81      0.90       149\n",
            "\n",
            "    accuracy                           0.97      1115\n",
            "   macro avg       0.99      0.91      0.94      1115\n",
            "weighted avg       0.98      0.97      0.97      1115\n",
            "\n",
            "\n",
            "Confusion Matrix:\n",
            " [[966   0]\n",
            " [ 28 121]]\n",
            "Message: Congrats! You have won a free iPhone. Click here to claim.\n",
            "Prediction: SPAM 🚨\n",
            "✅ Model and vectorizer saved!\n"
          ]
        }
      ],
      "source": [
        "# 📌 Spam SMS Detection\n",
        "\n",
        "# Step 1: Import libraries\n",
        "import pandas as pd\n",
        "from sklearn.model_selection import train_test_split\n",
        "from sklearn.feature_extraction.text import TfidfVectorizer\n",
        "from sklearn.linear_model import LogisticRegression\n",
        "from sklearn.metrics import classification_report, confusion_matrix\n",
        "\n",
        "# Step 2: Load dataset (Spam SMS dataset)\n",
        "url = \"https://raw.githubusercontent.com/justmarkham/DAT8/master/data/sms.tsv\"\n",
        "data = pd.read_csv(url, sep='\\t', names=[\"label\", \"message\"])\n",
        "\n",
        "print(\"Dataset shape:\", data.shape)\n",
        "print(data.head())\n",
        "\n",
        "\n",
        "# Step 3: Preprocessing\n",
        "X = data['message']\n",
        "y = data['label'].map({'ham':0, 'spam':1})  # ham=0, spam=1\n",
        "\n",
        "# Step 4: Train-test split\n",
        "X_train, X_test, y_train, y_test = train_test_split(X, y, test_size=0.2, random_state=42)\n",
        "\n",
        "# Step 5: Vectorize text (TF-IDF)\n",
        "vectorizer = TfidfVectorizer()\n",
        "X_train_tfidf = vectorizer.fit_transform(X_train)\n",
        "X_test_tfidf = vectorizer.transform(X_test)\n",
        "\n",
        "# Step 6: Train model\n",
        "model = LogisticRegression()\n",
        "model.fit(X_train_tfidf, y_train)\n",
        "\n",
        "# Step 7: Predictions\n",
        "y_pred = model.predict(X_test_tfidf)\n",
        "\n",
        "# Step 8: Evaluation\n",
        "print(\"\\nClassification Report:\\n\", classification_report(y_test, y_pred))\n",
        "print(\"\\nConfusion Matrix:\\n\", confusion_matrix(y_test, y_pred))\n",
        "# 🔹 Test with your own message\n",
        "test_message = [\"Congrats! You have won a free iPhone. Click here to claim.\"]\n",
        "test_message_tfidf = vectorizer.transform(test_message)\n",
        "prediction = model.predict(test_message_tfidf)\n",
        "\n",
        "print(\"Message:\", test_message[0])\n",
        "print(\"Prediction:\", \"SPAM 🚨\" if prediction[0]==1 else \"NOT SPAM ✅\")\n",
        "import joblib\n",
        "\n",
        "# Save the trained model + vectorizer\n",
        "joblib.dump(model, \"spam_sms_model.joblib\")\n",
        "joblib.dump(vectorizer, \"tfidf_vectorizer.joblib\")\n",
        "\n",
        "print(\"✅ Model and vectorizer saved!\")\n"
      ]
    }
  ]
}